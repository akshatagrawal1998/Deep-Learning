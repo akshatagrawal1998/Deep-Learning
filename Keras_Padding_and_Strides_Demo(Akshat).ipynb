{
  "nbformat": 4,
  "nbformat_minor": 0,
  "metadata": {
    "colab": {
      "provenance": [],
      "authorship_tag": "ABX9TyPPUj9WT8HCsFPzRmMRGSnq",
      "include_colab_link": true
    },
    "kernelspec": {
      "name": "python3",
      "display_name": "Python 3"
    },
    "language_info": {
      "name": "python"
    }
  },
  "cells": [
    {
      "cell_type": "markdown",
      "metadata": {
        "id": "view-in-github",
        "colab_type": "text"
      },
      "source": [
        "<a href=\"https://colab.research.google.com/github/akshatagrawal1998/Deep-Learning/blob/main/Keras_Padding_and_Strides_Demo(Akshat).ipynb\" target=\"_parent\"><img src=\"https://colab.research.google.com/assets/colab-badge.svg\" alt=\"Open In Colab\"/></a>"
      ]
    },
    {
      "cell_type": "code",
      "source": [
        "# Purpose of the notebook\n",
        "\n",
        "# Difference between padding = valid and padding=same \n",
        "# Strides affect in shape of feature map"
      ],
      "metadata": {
        "id": "24yk7UgMz5K9"
      },
      "execution_count": null,
      "outputs": []
    },
    {
      "cell_type": "code",
      "source": [
        "import tensorflow\n",
        "from tensorflow import keras\n",
        "from keras.layers import Dense,Conv2D,Flatten\n",
        "from keras import Sequential\n",
        "from keras.datasets import mnist"
      ],
      "metadata": {
        "id": "ED64P4C0emYE"
      },
      "execution_count": 1,
      "outputs": []
    },
    {
      "cell_type": "code",
      "source": [
        "(x_train, y_train), (x_test,y_test) = mnist.load_data()\n",
        "# loading MNIST dataset from Keras itself"
      ],
      "metadata": {
        "colab": {
          "base_uri": "https://localhost:8080/"
        },
        "id": "x7nZOWfvenG4",
        "outputId": "0635befd-08b3-4808-cf23-486fc0696d48"
      },
      "execution_count": 2,
      "outputs": [
        {
          "output_type": "stream",
          "name": "stdout",
          "text": [
            "Downloading data from https://storage.googleapis.com/tensorflow/tf-keras-datasets/mnist.npz\n",
            "11490434/11490434 [==============================] - 0s 0us/step\n"
          ]
        }
      ]
    },
    {
      "cell_type": "code",
      "source": [
        "x_train.shape"
      ],
      "metadata": {
        "colab": {
          "base_uri": "https://localhost:8080/"
        },
        "id": "x3nhMmKVjFx9",
        "outputId": "fa690dae-b1ae-4a62-f054-64e7e73595b3"
      },
      "execution_count": 13,
      "outputs": [
        {
          "output_type": "execute_result",
          "data": {
            "text/plain": [
              "(60000, 28, 28)"
            ]
          },
          "metadata": {},
          "execution_count": 13
        }
      ]
    },
    {
      "cell_type": "code",
      "source": [
        "x_test.shape"
      ],
      "metadata": {
        "colab": {
          "base_uri": "https://localhost:8080/"
        },
        "id": "vfQMRIBDjF0i",
        "outputId": "214f432c-cbf9-4013-8b29-15c75060fe47"
      },
      "execution_count": 14,
      "outputs": [
        {
          "output_type": "execute_result",
          "data": {
            "text/plain": [
              "(10000, 28, 28)"
            ]
          },
          "metadata": {},
          "execution_count": 14
        }
      ]
    },
    {
      "cell_type": "code",
      "source": [
        "# creating CNN model with padding\n",
        "\n",
        "# below created model has 3 convolutional layers and 1 flatten layer and 1 hidden layer and then 1 output layer\n",
        "model = Sequential()\n",
        "# Conv layer has 32 filters of shape(3*3) and padding=same means padding applied which means feature map shape should not be reduced and hence no information loss\n",
        "\n",
        "model.add(Conv2D(32, kernel_size = (3,3), padding='same', activation = 'relu', input_shape=(28,28,1)))\n",
        "model.add(Conv2D(32, kernel_size = (3,3), padding='same', activation = 'relu'))\n",
        "model.add(Conv2D(32, kernel_size = (3,3), padding='same', activation = 'relu'))\n",
        "\n",
        "\n",
        "model.add(Flatten()) # flatten layer converts the O/P to 1-D so that it can be fed to ANN layers (Dense layers) as input\n",
        "model.add(Dense(128, activation = 'relu'))\n",
        "model.add(Dense(10, activation = 'sigmoid'))\n"
      ],
      "metadata": {
        "id": "gqb-SsPHe0TC"
      },
      "execution_count": 5,
      "outputs": []
    },
    {
      "cell_type": "code",
      "source": [
        "model.summary()\n",
        "\n",
        "# we see in model summary - Output shape is same in all 3 conv layers which means due to padding applied, there is no information loss."
      ],
      "metadata": {
        "colab": {
          "base_uri": "https://localhost:8080/"
        },
        "id": "jhZcfFE5gOEi",
        "outputId": "f4281a98-fff5-4b17-d741-fd5e66a3440e"
      },
      "execution_count": 6,
      "outputs": [
        {
          "output_type": "stream",
          "name": "stdout",
          "text": [
            "Model: \"sequential_2\"\n",
            "_________________________________________________________________\n",
            " Layer (type)                Output Shape              Param #   \n",
            "=================================================================\n",
            " conv2d_5 (Conv2D)           (None, 28, 28, 32)        320       \n",
            "                                                                 \n",
            " conv2d_6 (Conv2D)           (None, 28, 28, 32)        9248      \n",
            "                                                                 \n",
            " conv2d_7 (Conv2D)           (None, 28, 28, 32)        9248      \n",
            "                                                                 \n",
            " flatten (Flatten)           (None, 25088)             0         \n",
            "                                                                 \n",
            " dense (Dense)               (None, 128)               3211392   \n",
            "                                                                 \n",
            " dense_1 (Dense)             (None, 10)                1290      \n",
            "                                                                 \n",
            "=================================================================\n",
            "Total params: 3,231,498\n",
            "Trainable params: 3,231,498\n",
            "Non-trainable params: 0\n",
            "_________________________________________________________________\n"
          ]
        }
      ]
    },
    {
      "cell_type": "code",
      "source": [],
      "metadata": {
        "id": "UebQ2gRDjn6i"
      },
      "execution_count": null,
      "outputs": []
    },
    {
      "cell_type": "code",
      "source": [],
      "metadata": {
        "id": "mtS4bKsgjn82"
      },
      "execution_count": null,
      "outputs": []
    },
    {
      "cell_type": "code",
      "source": [
        "# creating CNN model without padding i.e padding='valid' - no padding applied means in this case feature map shape will be reduced and hence information loss\n",
        "\n",
        "# below created model has 3 convolutional layers and 1 flatten layer and 1 hidden layer and then 1 output layer\n",
        "model1 = Sequential()\n",
        "# Conv layer has 32 filters of shape(3*3) and padding=valid means padding is not applied which means feature map shape should be reduced and hence information loss\n",
        "\n",
        "model1.add(Conv2D(32, kernel_size = (3,3), padding='valid', activation = 'relu', input_shape=(28,28,1)))\n",
        "model1.add(Conv2D(32, kernel_size = (3,3), padding='valid', activation = 'relu'))\n",
        "model1.add(Conv2D(32, kernel_size = (3,3), padding='valid', activation = 'relu'))\n",
        "\n",
        "\n",
        "model1.add(Flatten()) # flatten layer converts the O/P to 1-D so that it can be fed to ANN layers (Dense layers) as input\n",
        "model1.add(Dense(128, activation = 'relu'))\n",
        "model1.add(Dense(10, activation = 'sigmoid'))\n"
      ],
      "metadata": {
        "id": "OxlDmg0PgXy2"
      },
      "execution_count": 9,
      "outputs": []
    },
    {
      "cell_type": "code",
      "source": [
        "model1.summary()\n",
        "\n",
        "# we see in each conv layer - shape of feature map is reduced."
      ],
      "metadata": {
        "colab": {
          "base_uri": "https://localhost:8080/"
        },
        "id": "AAZOq0yvhsI3",
        "outputId": "0e5cdc1e-0ba2-4816-f30c-719b67474e88"
      },
      "execution_count": 10,
      "outputs": [
        {
          "output_type": "stream",
          "name": "stdout",
          "text": [
            "Model: \"sequential_4\"\n",
            "_________________________________________________________________\n",
            " Layer (type)                Output Shape              Param #   \n",
            "=================================================================\n",
            " conv2d_11 (Conv2D)          (None, 26, 26, 32)        320       \n",
            "                                                                 \n",
            " conv2d_12 (Conv2D)          (None, 24, 24, 32)        9248      \n",
            "                                                                 \n",
            " conv2d_13 (Conv2D)          (None, 22, 22, 32)        9248      \n",
            "                                                                 \n",
            " flatten_2 (Flatten)         (None, 15488)             0         \n",
            "                                                                 \n",
            " dense_4 (Dense)             (None, 128)               1982592   \n",
            "                                                                 \n",
            " dense_5 (Dense)             (None, 10)                1290      \n",
            "                                                                 \n",
            "=================================================================\n",
            "Total params: 2,002,698\n",
            "Trainable params: 2,002,698\n",
            "Non-trainable params: 0\n",
            "_________________________________________________________________\n"
          ]
        }
      ]
    },
    {
      "cell_type": "code",
      "source": [
        "# let's create a striped convolution\n",
        "\n",
        "# creating CNN model with strides = (2,2)\n",
        "\n",
        "# below created model has 3 convolutional layers and 1 flatten layer and 1 hidden layer and then 1 output layer\n",
        "model2 = Sequential()\n",
        "# Conv layer has 32 filters of shape(3*3) and padding=same means padding applied which means feature map shape should not be reduced and hence no information loss\n",
        "\n",
        "model2.add(Conv2D(32, kernel_size = (3,3), padding='same', strides=(2,2), activation = 'relu', input_shape=(28,28,1)))\n",
        "model2.add(Conv2D(32, kernel_size = (3,3), padding='same', strides=(2,2), activation = 'relu'))\n",
        "model2.add(Conv2D(32, kernel_size = (3,3), padding='same', strides=(2,2), activation = 'relu'))\n",
        "\n",
        "\n",
        "model2.add(Flatten()) # flatten layer converts the O/P to 1-D so that it can be fed to ANN layers (Dense layers) as input\n",
        "model2.add(Dense(128, activation = 'relu'))\n",
        "model2.add(Dense(10, activation = 'sigmoid'))\n"
      ],
      "metadata": {
        "id": "kGACIpjfhtL5"
      },
      "execution_count": 11,
      "outputs": []
    },
    {
      "cell_type": "code",
      "source": [
        "model2.summary()\n",
        "\n",
        "# we see by applying strides shape of feature map is reduced i.e. more information loss due to strides"
      ],
      "metadata": {
        "colab": {
          "base_uri": "https://localhost:8080/"
        },
        "id": "bItI1Xsxiz48",
        "outputId": "63b8a871-0989-4af0-ead5-513c178a1e4a"
      },
      "execution_count": 12,
      "outputs": [
        {
          "output_type": "stream",
          "name": "stdout",
          "text": [
            "Model: \"sequential_5\"\n",
            "_________________________________________________________________\n",
            " Layer (type)                Output Shape              Param #   \n",
            "=================================================================\n",
            " conv2d_14 (Conv2D)          (None, 14, 14, 32)        320       \n",
            "                                                                 \n",
            " conv2d_15 (Conv2D)          (None, 7, 7, 32)          9248      \n",
            "                                                                 \n",
            " conv2d_16 (Conv2D)          (None, 4, 4, 32)          9248      \n",
            "                                                                 \n",
            " flatten_3 (Flatten)         (None, 512)               0         \n",
            "                                                                 \n",
            " dense_6 (Dense)             (None, 128)               65664     \n",
            "                                                                 \n",
            " dense_7 (Dense)             (None, 10)                1290      \n",
            "                                                                 \n",
            "=================================================================\n",
            "Total params: 85,770\n",
            "Trainable params: 85,770\n",
            "Non-trainable params: 0\n",
            "_________________________________________________________________\n"
          ]
        }
      ]
    },
    {
      "cell_type": "code",
      "source": [],
      "metadata": {
        "id": "Ja1j2n5pi1MY"
      },
      "execution_count": null,
      "outputs": []
    }
  ]
}